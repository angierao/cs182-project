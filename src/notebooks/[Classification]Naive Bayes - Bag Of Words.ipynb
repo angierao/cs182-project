{
 "cells": [
  {
   "cell_type": "markdown",
   "metadata": {},
   "source": [
    "# Initialization"
   ]
  },
  {
   "cell_type": "markdown",
   "metadata": {},
   "source": [
    "## Import Library"
   ]
  },
  {
   "cell_type": "code",
   "execution_count": 26,
   "metadata": {
    "collapsed": true
   },
   "outputs": [],
   "source": [
    "import numpy as np\n",
    "import pandas as pd\n",
    "import scipy as sp\n",
    "from sklearn import linear_model\n",
    "import matplotlib.pyplot as plt\n",
    "from sklearn import discriminant_analysis\n",
    "from sklearn.decomposition import PCA\n",
    "from sklearn import preprocessing\n",
    "from sklearn import ensemble\n",
    "from sklearn.cross_validation import KFold\n",
    "from sklearn.tree import DecisionTreeClassifier, export_graphviz\n",
    "from sklearn.feature_extraction.text import CountVectorizer\n",
    "from sklearn.linear_model import LogisticRegression as LogReg\n",
    "from sklearn.grid_search import GridSearchCV\n",
    "from sklearn.metrics import accuracy_score\n",
    "import StringIO\n",
    "import matplotlib\n",
    "import matplotlib.pyplot as plt\n",
    "import subprocess\n",
    "import os\n",
    "import random\n",
    "%matplotlib inline"
   ]
  },
  {
   "cell_type": "code",
   "execution_count": 27,
   "metadata": {
    "collapsed": true
   },
   "outputs": [],
   "source": [
    "data_filename = \"../../data/labeled_data.txt\"\n",
    "max_sentence_length = 1000\n",
    "data = []\n",
    "labels = []"
   ]
  },
  {
   "cell_type": "markdown",
   "metadata": {},
   "source": [
    "## Read Data"
   ]
  },
  {
   "cell_type": "code",
   "execution_count": 28,
   "metadata": {
    "collapsed": true
   },
   "outputs": [],
   "source": [
    "with open(data_filename) as f:\n",
    "    for line in f:\n",
    "        s_len = len(line)\n",
    "        cur = 0\n",
    "        # split to segments of maximal length of max_sentence_length\n",
    "        while (cur < s_len - 3):\n",
    "            if (cur + max_sentence_length < s_len - 3):\n",
    "                data.append(line[cur:cur+max_sentence_length].lower())\n",
    "                labels.append(int(line[-2]))\n",
    "                cur += max_sentence_length\n",
    "            else:\n",
    "                data.append(line[cur:-3].lower())\n",
    "                labels.append(int(line[-2]))\n",
    "                cur = s_len - 3\n",
    " "
   ]
  },
  {
   "cell_type": "markdown",
   "metadata": {},
   "source": [
    "## Clean Data"
   ]
  },
  {
   "cell_type": "code",
   "execution_count": 29,
   "metadata": {
    "collapsed": true
   },
   "outputs": [],
   "source": [
    "# Now, let's clean punctuations \n",
    "for i, sentence in enumerate(data):\n",
    "    for char in \".,&%?'\":\n",
    "        data[i] = data[i].replace(char, ' ')"
   ]
  },
  {
   "cell_type": "markdown",
   "metadata": {},
   "source": [
    "## Split Data"
   ]
  },
  {
   "cell_type": "code",
   "execution_count": 30,
   "metadata": {
    "collapsed": true
   },
   "outputs": [],
   "source": [
    "n = len(data)\n",
    "x_train = []\n",
    "y_train = []\n",
    "x_test = []\n",
    "y_test = []\n",
    "for i in range(n):\n",
    "    if random.randint(1, 8) <= 6:\n",
    "        x_train.append(data[i])\n",
    "        y_train.append(labels[i])\n",
    "    else:\n",
    "        x_test.append(data[i])\n",
    "        y_test.append(labels[i])\n"
   ]
  },
  {
   "cell_type": "markdown",
   "metadata": {},
   "source": [
    "# Training"
   ]
  },
  {
   "cell_type": "markdown",
   "metadata": {},
   "source": [
    "## Build dictionary of all the words"
   ]
  },
  {
   "cell_type": "code",
   "execution_count": 31,
   "metadata": {
    "collapsed": false
   },
   "outputs": [],
   "source": [
    "word_to_index = {}\n",
    "n = len(x_train)\n",
    "num = 0\n",
    "for i in range(n):\n",
    "    words = x_train[i].split()\n",
    "    for word in words:\n",
    "        if not word_to_index.has_key(word):\n",
    "            word_to_index[word] = num\n",
    "            num += 1"
   ]
  },
  {
   "cell_type": "markdown",
   "metadata": {},
   "source": [
    "## Count the words"
   ]
  },
  {
   "cell_type": "code",
   "execution_count": 32,
   "metadata": {
    "collapsed": false
   },
   "outputs": [],
   "source": [
    "total = [0] * 2\n",
    "for i in range(n):\n",
    "    total[y_train[i]] += 1\n",
    "    \n",
    "counts = []\n",
    "for label in range(2):\n",
    "    counts.append([0] * num)\n",
    "    for i in range(n):\n",
    "        if y_train[i] == label:\n",
    "            words = x_train[i].split()\n",
    "            for word in words:\n",
    "                counts[label][word_to_index[word]] += 1"
   ]
  },
  {
   "cell_type": "code",
   "execution_count": 33,
   "metadata": {
    "collapsed": false
   },
   "outputs": [],
   "source": [
    "def get_word_stats():\n",
    "    for key in word_to_index:\n",
    "        c0 = counts[0][word_to_index[key]]\n",
    "        c1 = counts[1][word_to_index[key]]\n",
    "        if abs(c0 - c1) < (c0 + c1) / 4:\n",
    "            continue\n",
    "        if counts[0][word_to_index[key]] + counts[1][word_to_index[key]] > 50:\n",
    "            print \"key=\", key, \" counts=\", counts[0][word_to_index[key]], counts[1][word_to_index[key]]"
   ]
  },
  {
   "cell_type": "markdown",
   "metadata": {},
   "source": [
    "## Calculate probability "
   ]
  },
  {
   "cell_type": "code",
   "execution_count": 34,
   "metadata": {
    "collapsed": false
   },
   "outputs": [],
   "source": [
    "# p[label][word] = log(p(word | label))\n",
    "import sys\n",
    "import math\n",
    "def mylog(x):\n",
    "    if x == 0:\n",
    "        return sys.float_info.min\n",
    "    else:\n",
    "        return math.log(x)\n",
    "\n",
    "def getProb(cnt):\n",
    "    tot = sum(cnt)\n",
    "    return [float(x) / tot for x in cnt]\n",
    "def calculateTable(alpha = 1):\n",
    "    global p\n",
    "    p = []\n",
    "    for label in range(2):\n",
    "        p.append([0] * num)\n",
    "        arr = getProb([x + alpha for x in counts[label]])\n",
    "        p[label] = [mylog(x) for x in arr]\n",
    "calculateTable()"
   ]
  },
  {
   "cell_type": "markdown",
   "metadata": {},
   "source": [
    "# Testing"
   ]
  },
  {
   "cell_type": "code",
   "execution_count": 35,
   "metadata": {
    "collapsed": false
   },
   "outputs": [],
   "source": [
    "def predictLabel(text):\n",
    "    words = text.split()\n",
    "    ans = [0] * 2\n",
    "    for label in range(2):\n",
    "        ans[label] = mylog(float(total[label]) / sum(total))\n",
    "        for word in words:\n",
    "            if not word_to_index.has_key(word):\n",
    "                continue  # ignore for now\n",
    "            else:\n",
    "                ans[label] += p[label][word_to_index[word]]\n",
    "    if ans[0] > ans[1]:\n",
    "        return 0\n",
    "    else:\n",
    "        return 1"
   ]
  },
  {
   "cell_type": "code",
   "execution_count": 36,
   "metadata": {
    "collapsed": true
   },
   "outputs": [],
   "source": [
    "def testData(test_data):\n",
    "    num_total = len(test_data)\n",
    "    num_correct = 0\n",
    "    for test_entry in test_data:\n",
    "        num_correct += (predictLabel(test_entry[1]) == test_entry[0])\n",
    "    return \"%d out of %d: correct %.2lf\" % (num_correct, num_total, float(num_correct) / num_total)\n"
   ]
  },
  {
   "cell_type": "code",
   "execution_count": 37,
   "metadata": {
    "collapsed": false
   },
   "outputs": [
    {
     "data": {
      "text/plain": [
       "'3618 out of 4096: correct 0.88'"
      ]
     },
     "execution_count": 37,
     "metadata": {},
     "output_type": "execute_result"
    }
   ],
   "source": [
    "test_data = zip(y_test, x_test)\n",
    "testData(test_data)"
   ]
  },
  {
   "cell_type": "code",
   "execution_count": null,
   "metadata": {
    "collapsed": true
   },
   "outputs": [],
   "source": []
  },
  {
   "cell_type": "code",
   "execution_count": null,
   "metadata": {
    "collapsed": true
   },
   "outputs": [],
   "source": []
  }
 ],
 "metadata": {
  "anaconda-cloud": {},
  "kernelspec": {
   "display_name": "Python [Root]",
   "language": "python",
   "name": "Python [Root]"
  },
  "language_info": {
   "codemirror_mode": {
    "name": "ipython",
    "version": 2
   },
   "file_extension": ".py",
   "mimetype": "text/x-python",
   "name": "python",
   "nbconvert_exporter": "python",
   "pygments_lexer": "ipython2",
   "version": "2.7.12"
  }
 },
 "nbformat": 4,
 "nbformat_minor": 0
}
