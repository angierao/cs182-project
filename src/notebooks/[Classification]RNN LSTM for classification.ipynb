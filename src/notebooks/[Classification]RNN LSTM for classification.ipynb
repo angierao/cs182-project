{
 "cells": [
  {
   "cell_type": "markdown",
   "metadata": {},
   "source": [
    "# Initialization"
   ]
  },
  {
   "cell_type": "markdown",
   "metadata": {},
   "source": [
    "## Import Library"
   ]
  },
  {
   "cell_type": "code",
   "execution_count": 1,
   "metadata": {
    "collapsed": false
   },
   "outputs": [
    {
     "name": "stderr",
     "output_type": "stream",
     "text": [
      "Using Theano backend.\n",
      "ERROR (theano.sandbox.cuda): Failed to compile cuda_ndarray.cu: dlopen(/Users/demiguo/.theano/compiledir_Darwin-13.4.0-x86_64-i386-64bit-i386-2.7.12-64/cuda_ndarray/cuda_ndarray.so, 2): Symbol not found: _OSAtomicDecrement32Barrier\n",
      "  Referenced from: /usr/local/cuda/lib/libcublas.8.0.dylib\n",
      "  Expected in: /usr/lib/libSystem.B.dylib\n",
      " in /usr/local/cuda/lib/libcublas.8.0.dylib\n"
     ]
    }
   ],
   "source": [
    "import numpy\n",
    "from keras.datasets import imdb\n",
    "from keras.models import Sequential\n",
    "from keras.layers import Dense\n",
    "from keras.layers import LSTM\n",
    "from keras.layers import Dropout\n",
    "from keras.layers.embeddings import Embedding\n",
    "from keras.layers.convolutional import Convolution1D\n",
    "from keras.layers.convolutional import MaxPooling1D\n",
    "import random\n",
    "import keras\n",
    "from keras.preprocessing import sequence\n",
    "# fix random seed for reproducibility\n",
    "numpy.random.seed(7)"
   ]
  },
  {
   "cell_type": "markdown",
   "metadata": {},
   "source": [
    "## Retrieve Data"
   ]
  },
  {
   "cell_type": "code",
   "execution_count": 2,
   "metadata": {
    "collapsed": true
   },
   "outputs": [],
   "source": [
    "filename = \"../../data/labeled_data.txt\"\n",
    "raw_text = open(filename).read()\n",
    "raw_text = raw_text.lower()\n",
    "chars = sorted(list(set(raw_text)))\n",
    "char_to_int = dict((c, i) for i, c in enumerate(chars))\n",
    "# [char_to_int[char] for char in str]"
   ]
  },
  {
   "cell_type": "code",
   "execution_count": 3,
   "metadata": {
    "collapsed": true
   },
   "outputs": [],
   "source": [
    "data = []\n",
    "labels = []\n",
    "with open(filename) as f:\n",
    "    for line in f:\n",
    "        s_len = len(line)\n",
    "        block = 1000  # ignore\n",
    "        cur = 0\n",
    "        while (cur < s_len - 3):\n",
    "            if (cur + block < s_len - 3):\n",
    "                # only do 500 for now\n",
    "                data.append(line[cur:cur+block].lower())\n",
    "                labels.append(line[-2])\n",
    "                cur += block\n",
    "            else:\n",
    "                data.append(line[cur:-3].lower())\n",
    "                labels.append(line[-2])\n",
    "                cur = s_len - 3\n",
    " "
   ]
  },
  {
   "cell_type": "markdown",
   "metadata": {},
   "source": [
    "## Clean Data"
   ]
  },
  {
   "cell_type": "code",
   "execution_count": 4,
   "metadata": {
    "collapsed": true
   },
   "outputs": [],
   "source": [
    "# Now, let's clean punctuations \n",
    "for i, sentence in enumerate(data):\n",
    "    for char in \".,&%?'\":\n",
    "        data[i] = data[i].replace(char, ' ')"
   ]
  },
  {
   "cell_type": "markdown",
   "metadata": {},
   "source": [
    "## Split Data"
   ]
  },
  {
   "cell_type": "code",
   "execution_count": 5,
   "metadata": {
    "collapsed": false
   },
   "outputs": [],
   "source": [
    "n = len(data)  # data size\n",
    "X_train = []\n",
    "X_test = []\n",
    "y_train = []\n",
    "y_test = []\n",
    "for i in range(n):\n",
    "    word_vec = [char_to_int[char] for char in data[i]]\n",
    "    label = labels[i]\n",
    "    if random.randint(1,4) <= 3:\n",
    "        # train\n",
    "        X_train.append(word_vec) \n",
    "        y_train.append(label)\n",
    "    else:\n",
    "        # test\n",
    "        X_test.append(word_vec)\n",
    "        y_test.append(label)"
   ]
  },
  {
   "cell_type": "markdown",
   "metadata": {},
   "source": [
    "## Pad Data"
   ]
  },
  {
   "cell_type": "code",
   "execution_count": 6,
   "metadata": {
    "collapsed": false
   },
   "outputs": [],
   "source": [
    "max_speech_length = max([len(sentence) for sentence in data])\n",
    "X_train = sequence.pad_sequences(X_train, maxlen=max_speech_length)\n",
    "X_test = sequence.pad_sequences(X_test, maxlen=max_speech_length)"
   ]
  },
  {
   "cell_type": "markdown",
   "metadata": {},
   "source": [
    "# Training"
   ]
  },
  {
   "cell_type": "markdown",
   "metadata": {},
   "source": [
    "## Create the model"
   ]
  },
  {
   "cell_type": "code",
   "execution_count": 7,
   "metadata": {
    "collapsed": false
   },
   "outputs": [
    {
     "name": "stdout",
     "output_type": "stream",
     "text": [
      "____________________________________________________________________________________________________\n",
      "Layer (type)                     Output Shape          Param #     Connected to                     \n",
      "====================================================================================================\n",
      "embedding_1 (Embedding)          (None, 656, 32)       517280      embedding_input_1[0][0]          \n",
      "____________________________________________________________________________________________________\n",
      "convolution1d_1 (Convolution1D)  (None, 656, 32)       3104        embedding_1[0][0]                \n",
      "____________________________________________________________________________________________________\n",
      "maxpooling1d_1 (MaxPooling1D)    (None, 328, 32)       0           convolution1d_1[0][0]            \n",
      "____________________________________________________________________________________________________\n",
      "lstm_1 (LSTM)                    (None, 100)           53200       maxpooling1d_1[0][0]             \n",
      "____________________________________________________________________________________________________\n",
      "dense_1 (Dense)                  (None, 1)             101         lstm_1[0][0]                     \n",
      "====================================================================================================\n",
      "Total params: 573685\n",
      "____________________________________________________________________________________________________\n",
      "None\n",
      "Epoch 1/20\n",
      "12104/12104 [==============================] - 171s - loss: 0.4106 - acc: 0.8137   \n",
      "Epoch 2/20\n",
      "12104/12104 [==============================] - 170s - loss: 0.3581 - acc: 0.8599   \n",
      "Epoch 3/20\n",
      "12104/12104 [==============================] - 173s - loss: 0.3022 - acc: 0.8750   \n",
      "Epoch 4/20\n",
      "12104/12104 [==============================] - 169s - loss: 0.2919 - acc: 0.8776   \n",
      "Epoch 5/20\n",
      "12104/12104 [==============================] - 170s - loss: 0.2831 - acc: 0.8777   \n",
      "Epoch 6/20\n",
      "12104/12104 [==============================] - 171s - loss: 0.2760 - acc: 0.8807   \n",
      "Epoch 7/20\n",
      "12104/12104 [==============================] - 169s - loss: 0.2756 - acc: 0.8805   \n",
      "Epoch 8/20\n",
      "12104/12104 [==============================] - 170s - loss: 0.2673 - acc: 0.8845   \n",
      "Epoch 9/20\n",
      "12104/12104 [==============================] - 155s - loss: 0.2626 - acc: 0.8844   \n",
      "Epoch 10/20\n",
      "12104/12104 [==============================] - 164s - loss: 0.2585 - acc: 0.8851   \n",
      "Epoch 11/20\n",
      "12104/12104 [==============================] - 160s - loss: 0.2575 - acc: 0.8855   \n",
      "Epoch 12/20\n",
      "12104/12104 [==============================] - 189s - loss: 0.2448 - acc: 0.8910   \n",
      "Epoch 13/20\n",
      "12104/12104 [==============================] - 187s - loss: 0.2461 - acc: 0.8920   \n",
      "Epoch 14/20\n",
      "12104/12104 [==============================] - 187s - loss: 0.2348 - acc: 0.8952   \n",
      "Epoch 15/20\n",
      "12104/12104 [==============================] - 192s - loss: 0.2321 - acc: 0.8994   \n",
      "Epoch 16/20\n",
      "12104/12104 [==============================] - 192s - loss: 0.2302 - acc: 0.8975   \n",
      "Epoch 17/20\n",
      "12104/12104 [==============================] - 192s - loss: 0.2215 - acc: 0.9009   \n",
      "Epoch 18/20\n",
      "12104/12104 [==============================] - 189s - loss: 0.2182 - acc: 0.9035   \n",
      "Epoch 19/20\n",
      "12104/12104 [==============================] - 188s - loss: 0.2180 - acc: 0.9041   \n",
      "Epoch 20/20\n",
      "12104/12104 [==============================] - 188s - loss: 0.2145 - acc: 0.9064   \n"
     ]
    },
    {
     "data": {
      "text/plain": [
       "<keras.callbacks.History at 0x11aaccf50>"
      ]
     },
     "execution_count": 7,
     "metadata": {},
     "output_type": "execute_result"
    }
   ],
   "source": [
    "embedding_vecor_length = 32\n",
    "model = Sequential()\n",
    "model.add(Embedding(n, embedding_vecor_length, input_length=max_speech_length))\n",
    "model.add(Convolution1D(nb_filter=32, filter_length=3, border_mode='same', activation='relu'))\n",
    "model.add(MaxPooling1D(pool_length=2))\n",
    "model.add(LSTM(100))\n",
    "model.add(Dense(1, activation='sigmoid'))\n",
    "model.compile(loss='binary_crossentropy', optimizer='adam', metrics=['accuracy'])\n",
    "print(model.summary())\n",
    "model.fit(X_train, y_train, nb_epoch=20, batch_size=64)"
   ]
  },
  {
   "cell_type": "markdown",
   "metadata": {},
   "source": [
    "## Final evaluation of the model"
   ]
  },
  {
   "cell_type": "code",
   "execution_count": 8,
   "metadata": {
    "collapsed": false
   },
   "outputs": [
    {
     "name": "stdout",
     "output_type": "stream",
     "text": [
      "Accuracy: 88.89%\n"
     ]
    }
   ],
   "source": [
    "scores = model.evaluate(X_test, y_test, verbose=0)\n",
    "print(\"Accuracy: %.2f%%\" % (scores[1]*100))"
   ]
  },
  {
   "cell_type": "code",
   "execution_count": null,
   "metadata": {
    "collapsed": true
   },
   "outputs": [],
   "source": []
  }
 ],
 "metadata": {
  "anaconda-cloud": {},
  "kernelspec": {
   "display_name": "Python [Root]",
   "language": "python",
   "name": "Python [Root]"
  },
  "language_info": {
   "codemirror_mode": {
    "name": "ipython",
    "version": 2
   },
   "file_extension": ".py",
   "mimetype": "text/x-python",
   "name": "python",
   "nbconvert_exporter": "python",
   "pygments_lexer": "ipython2",
   "version": "2.7.12"
  }
 },
 "nbformat": 4,
 "nbformat_minor": 0
}
