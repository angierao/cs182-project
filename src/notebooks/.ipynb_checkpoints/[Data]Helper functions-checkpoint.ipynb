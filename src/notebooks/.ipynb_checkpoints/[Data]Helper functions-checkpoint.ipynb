{
 "cells": [
  {
   "cell_type": "code",
   "execution_count": null,
   "metadata": {
    "collapsed": true
   },
   "outputs": [],
   "source": [
    "Description: Random Data Processing related helper functions compilation"
   ]
  },
  {
   "cell_type": "code",
   "execution_count": 12,
   "metadata": {
    "collapsed": false
   },
   "outputs": [
    {
     "name": "stdout",
     "output_type": "stream",
     "text": [
      "['happyyeshh', 'Happydd']\n"
     ]
    }
   ],
   "source": [
    "def removeInvalidChars(sentences):\n",
    "    lst = []\n",
    "    for i, sentence in enumerate(sentences):\n",
    "        segs = sentence.split('<i>')\n",
    "        lst.append(''.join([segs[i] for i in range(len(segs)) if i % 2 == 0]))\n",
    "    return lst\n",
    "\n",
    "# testing\n",
    "print removeInvalidChars([\"happy<i>no<i>yes<i>no<i>hh\", \"Happy<i>Inspect-<i>dd\"])"
   ]
  },
  {
   "cell_type": "code",
   "execution_count": null,
   "metadata": {
    "collapsed": true
   },
   "outputs": [],
   "source": [
    "# read and split to max_sentence_length\n",
    "with open(data_filename) as f:\n",
    "    for line in f:\n",
    "        s_len = len(line)\n",
    "        cur = 0\n",
    "        # split to segments of maximal length of max_sentence_length\n",
    "        while (cur < s_len - 3):\n",
    "            if (cur + max_sentence_length < s_len - 3):\n",
    "                data.append(line[cur:cur+max_sentence_length].lower())\n",
    "                labels.append(int(line[-2]))\n",
    "                cur += max_sentence_length\n",
    "            else:\n",
    "                data.append(line[cur:-3].lower())\n",
    "                labels.append(int(line[-2]))\n",
    "                cur = s_len - 3\n"
   ]
  },
  {
   "cell_type": "code",
   "execution_count": null,
   "metadata": {
    "collapsed": true
   },
   "outputs": [],
   "source": [
    "for i, sentence in enumerate(data):\n",
    "    for char in \".,&%?'\":\n",
    "        data[i] = data[i].replace(char, ' ')"
   ]
  },
  {
   "cell_type": "code",
   "execution_count": null,
   "metadata": {
    "collapsed": true
   },
   "outputs": [],
   "source": [
    "n = len(data)\n",
    "x_train = []\n",
    "y_train = []\n",
    "x_test = []\n",
    "y_test = []\n",
    "for i in range(n):\n",
    "    if random.randint(1, 8) <= 6:\n",
    "        x_train.append(data[i])\n",
    "        y_train.append(labels[i])\n",
    "    else:\n",
    "        x_test.append(data[i])\n",
    "        y_test.append(labels[i])\n"
   ]
  },
  {
   "cell_type": "code",
   "execution_count": null,
   "metadata": {
    "collapsed": true
   },
   "outputs": [],
   "source": [
    "import urllib\n",
    "from lxml import html\n",
    "from bs4 import BeautifulSoup\n",
    "\n",
    "\n",
    "page = urllib.urlopen('http://www.presidency.ucsb.edu/ws/index.php?pid=119181').read()\n",
    "soup = BeautifulSoup(page, \"lxml\")\n",
    "#speech = soup.find_all('span')[6]\n",
    "speech = soup.find_all('p')\n",
    "for sentence in speech:\n",
    "    sentence = str(sentence)[3:-4]\n",
    "\n"
   ]
  },
  {
   "cell_type": "code",
   "execution_count": 1,
   "metadata": {
    "collapsed": false
   },
   "outputs": [
    {
     "ename": "NameError",
     "evalue": "name 'urllib' is not defined",
     "output_type": "error",
     "traceback": [
      "\u001b[0;31m---------------------------------------------------------------------------\u001b[0m",
      "\u001b[0;31mNameError\u001b[0m                                 Traceback (most recent call last)",
      "\u001b[0;32m<ipython-input-1-2f69996574bd>\u001b[0m in \u001b[0;36m<module>\u001b[0;34m()\u001b[0m\n\u001b[0;32m----> 1\u001b[0;31m \u001b[0mpage\u001b[0m \u001b[0;34m=\u001b[0m \u001b[0murllib\u001b[0m\u001b[0;34m.\u001b[0m\u001b[0murlopen\u001b[0m\u001b[0;34m(\u001b[0m\u001b[0;34m'http://www.presidency.ucsb.edu/ws/index.php?pid=119161'\u001b[0m\u001b[0;34m)\u001b[0m\u001b[0;34m.\u001b[0m\u001b[0mread\u001b[0m\u001b[0;34m(\u001b[0m\u001b[0;34m)\u001b[0m\u001b[0;34m\u001b[0m\u001b[0m\n\u001b[0m\u001b[1;32m      2\u001b[0m \u001b[0msoup\u001b[0m \u001b[0;34m=\u001b[0m \u001b[0mBeautifulSoup\u001b[0m\u001b[0;34m(\u001b[0m\u001b[0mpage\u001b[0m\u001b[0;34m,\u001b[0m \u001b[0;34m\"lxml\"\u001b[0m\u001b[0;34m)\u001b[0m\u001b[0;34m\u001b[0m\u001b[0m\n\u001b[1;32m      3\u001b[0m \u001b[0;31m#speech = soup.find_all('span')[6]\u001b[0m\u001b[0;34m\u001b[0m\u001b[0;34m\u001b[0m\u001b[0m\n\u001b[1;32m      4\u001b[0m \u001b[0msoup\u001b[0m\u001b[0;34m.\u001b[0m\u001b[0mfind_all\u001b[0m\u001b[0;34m(\u001b[0m\u001b[0;34m'p'\u001b[0m\u001b[0;34m)\u001b[0m\u001b[0;34m\u001b[0m\u001b[0m\n",
      "\u001b[0;31mNameError\u001b[0m: name 'urllib' is not defined"
     ]
    }
   ],
   "source": [
    "page = urllib.urlopen('http://www.presidency.ucsb.edu/ws/index.php?pid=119161').read()\n",
    "soup = BeautifulSoup(page, \"lxml\")\n",
    "#speech = soup.find_all('span')[6]\n",
    "soup.find_all('p')"
   ]
  },
  {
   "cell_type": "code",
   "execution_count": null,
   "metadata": {
    "collapsed": true
   },
   "outputs": [],
   "source": [
    "valid_ids = range(165, 199)\n",
    "for i in range(200,210):\n",
    "    valid_ids.append(i)\n",
    "trump_speeches = []\n",
    "for valid_id in valid_ids:\n",
    "    page = urllib.urlopen('http://www.presidency.ucsb.edu/ws/index.php?pid=119' + str(valid_id)).read()\n",
    "    soup = BeautifulSoup(page, \"lxml\")\n",
    "    #speech = soup.find_all('span')[6]\n",
    "    speech = soup.find_all('p')\n",
    "    for result in speech:\n",
    "        result = str(result)[3:-4]\n",
    "        for i, c in enumerate(result):\n",
    "            if ord(c) < 0 or ord(c) > 127:\n",
    "                result = result[:i] + '.' + result[i+1:]\n",
    "        sentences = tokenizer.tokenize(result)\n",
    "        for sent in sentences:\n",
    "            trump_speeches.append(sentence)"
   ]
  },
  {
   "cell_type": "code",
   "execution_count": null,
   "metadata": {
    "collapsed": true
   },
   "outputs": [],
   "source": [
    "valid_ids = range(148, 165)\n",
    "for i in range(497,503):\n",
    "    valid_ids.append(i)\n",
    "for i in range(688,702):\n",
    "    valid_ids.append(i)\n",
    "clinton_speeches = []\n",
    "for valid_id in valid_ids:\n",
    "    page = urllib.urlopen('http://www.presidency.ucsb.edu/ws/index.php?pid=119' + str(valid_id)).read()\n",
    "    soup = BeautifulSoup(page, \"lxml\")\n",
    "    #speech = soup.find_all('span')[6]\n",
    "    speech = soup.find_all('p')\n",
    "    for result in speech:\n",
    "        result = str(result)[3:-4]\n",
    "        for i, c in enumerate(result):\n",
    "            if ord(c) < 0 or ord(c) > 127:\n",
    "                result = result[:i] + '.' + result[i+1:]\n",
    "                #print result\n",
    "        sentences = tokenizer.tokenize(result)\n",
    "        for sent in sentences:\n",
    "            clinton_speeches.append(sent)"
   ]
  },
  {
   "cell_type": "code",
   "execution_count": null,
   "metadata": {
    "collapsed": true
   },
   "outputs": [],
   "source": [
    "import nltk.data\n",
    "\n",
    "tokenizer = nltk.data.load('tokenizers/punkt/english.pickle')\n",
    "#fp = open(\"test.txt\")\n",
    "#data = fp.read()\n",
    "\n"
   ]
  },
  {
   "cell_type": "code",
   "execution_count": null,
   "metadata": {
    "collapsed": true
   },
   "outputs": [],
   "source": [
    "trump_df = pd.DataFrame({}, columns = df.columns)\n",
    "clinton_df = pd.DataFrame({}, columns = df.columns)\n",
    "trump = []\n",
    "clinton = []\n",
    "\n",
    "end_t = 0\n",
    "end_c = 0\n",
    "for i in range(df.shape[0]):\n",
    "#for i in range(5):\n",
    "    if df['Speaker'].values[i] == 'Trump':\n",
    "        speech = df['Text'].values[i]\n",
    "        sentences = tokenizer.tokenize(speech)\n",
    "        for sentence in sentences:\n",
    "            trump_df.loc[end_t] = [end_t, df['Speaker'].values[i], sentence, df['Date'].values[i]]\n",
    "            trump.append(sentence)\n",
    "            end_t += 1\n",
    "    if df['Speaker'].values[i] == 'Clinton':\n",
    "        speech = df['Text'].values[i]\n",
    "        sentences = tokenizer.tokenize(speech)\n",
    "        for sentence in sentences:\n",
    "            clinton_df.loc[end_c] = [end_c, df['Speaker'].values[i], sentence, df['Date'].values[i]]\n",
    "            clinton.append(sentence)\n",
    "            end_c += 1\n",
    "            \n",
    "       "
   ]
  },
  {
   "cell_type": "code",
   "execution_count": null,
   "metadata": {
    "collapsed": true
   },
   "outputs": [],
   "source": [
    "name = 'astro_sentences.txt'\n",
    "f = open(name,'w')\n",
    "'''\n",
    "for sentence in trump:\n",
    "    f.write(sentence+',0\\n')\n",
    "for sentence in clinton:\n",
    "\tf.write(sentence + ',1\\n')\n",
    "'''\n",
    "tot = len(trump) + len(clinton)\n",
    "t = 0\n",
    "c = 0\n",
    "cont = True\n",
    "while cont:\n",
    "    if np.random.uniform(low=0.0, high=1.0) < .5:\n",
    "        f.write(trump[t] + ',0\\n')\n",
    "        t += 1\n",
    "    else:\n",
    "        f.write(clinton[c] + ',1\\n')\n",
    "        c += 1\n",
    "    if t == len(trump):\n",
    "        while c < len(clinton):\n",
    "            f.write(clinton[c] + ',1\\n')\n",
    "            c += 1\n",
    "        cont = False\n",
    "    elif c == len(clinton):\n",
    "        while t < len(trump):\n",
    "            f.write(trump[t] + ',0\\n')\n",
    "            t += 1\n",
    "        cont = False\n",
    "\n",
    "f.close()"
   ]
  },
  {
   "cell_type": "code",
   "execution_count": null,
   "metadata": {
    "collapsed": true
   },
   "outputs": [],
   "source": [
    "def strip_non_ascii(string):\n",
    "    ''' Returns the string without non ASCII characters'''\n",
    "    stripped = (c for c in string if 0 < ord(c) < 127)\n",
    "    return ''.join(stripped)"
   ]
  }
 ],
 "metadata": {
  "anaconda-cloud": {},
  "kernelspec": {
   "display_name": "Python [Root]",
   "language": "python",
   "name": "Python [Root]"
  },
  "language_info": {
   "codemirror_mode": {
    "name": "ipython",
    "version": 2
   },
   "file_extension": ".py",
   "mimetype": "text/x-python",
   "name": "python",
   "nbconvert_exporter": "python",
   "pygments_lexer": "ipython2",
   "version": "2.7.12"
  }
 },
 "nbformat": 4,
 "nbformat_minor": 0
}
