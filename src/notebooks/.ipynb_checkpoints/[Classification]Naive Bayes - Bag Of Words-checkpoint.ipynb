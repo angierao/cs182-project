{
 "cells": [
  {
   "cell_type": "markdown",
   "metadata": {},
   "source": [
    "# Import Library"
   ]
  },
  {
   "cell_type": "code",
   "execution_count": 1,
   "metadata": {
    "collapsed": true
   },
   "outputs": [],
   "source": [
    "import numpy as np\n",
    "import pandas as pd\n",
    "import scipy as sp\n",
    "from sklearn import linear_model\n",
    "import matplotlib.pyplot as plt\n",
    "from sklearn import discriminant_analysis\n",
    "from sklearn.decomposition import PCA\n",
    "from sklearn import preprocessing\n",
    "from sklearn import ensemble\n",
    "from sklearn.cross_validation import KFold\n",
    "from sklearn.tree import DecisionTreeClassifier, export_graphviz\n",
    "from sklearn.feature_extraction.text import CountVectorizer\n",
    "from sklearn.linear_model import LogisticRegression as LogReg\n",
    "from sklearn.grid_search import GridSearchCV\n",
    "from sklearn.metrics import accuracy_score\n",
    "import StringIO\n",
    "import matplotlib\n",
    "import matplotlib.pyplot as plt\n",
    "import subprocess\n",
    "import os\n",
    "%matplotlib inline"
   ]
  },
  {
   "cell_type": "code",
   "execution_count": 75,
   "metadata": {
    "collapsed": false
   },
   "outputs": [
    {
     "data": {
      "text/html": [
       "<div>\n",
       "<table border=\"1\" class=\"dataframe\">\n",
       "  <thead>\n",
       "    <tr style=\"text-align: right;\">\n",
       "      <th></th>\n",
       "      <th>Line</th>\n",
       "      <th>Speaker</th>\n",
       "      <th>Text</th>\n",
       "      <th>Date</th>\n",
       "    </tr>\n",
       "  </thead>\n",
       "  <tbody>\n",
       "    <tr>\n",
       "      <th>0</th>\n",
       "      <td>1</td>\n",
       "      <td>Holt</td>\n",
       "      <td>Good evening from Hofstra University in Hempst...</td>\n",
       "      <td>9/26/16</td>\n",
       "    </tr>\n",
       "    <tr>\n",
       "      <th>1</th>\n",
       "      <td>2</td>\n",
       "      <td>Audience</td>\n",
       "      <td>(APPLAUSE)</td>\n",
       "      <td>9/26/16</td>\n",
       "    </tr>\n",
       "    <tr>\n",
       "      <th>2</th>\n",
       "      <td>3</td>\n",
       "      <td>Clinton</td>\n",
       "      <td>How are you, Donald?</td>\n",
       "      <td>9/26/16</td>\n",
       "    </tr>\n",
       "    <tr>\n",
       "      <th>3</th>\n",
       "      <td>4</td>\n",
       "      <td>Audience</td>\n",
       "      <td>(APPLAUSE)</td>\n",
       "      <td>9/26/16</td>\n",
       "    </tr>\n",
       "    <tr>\n",
       "      <th>4</th>\n",
       "      <td>5</td>\n",
       "      <td>Holt</td>\n",
       "      <td>Good luck to you.</td>\n",
       "      <td>9/26/16</td>\n",
       "    </tr>\n",
       "  </tbody>\n",
       "</table>\n",
       "</div>"
      ],
      "text/plain": [
       "   Line   Speaker                                               Text     Date\n",
       "0     1      Holt  Good evening from Hofstra University in Hempst...  9/26/16\n",
       "1     2  Audience                                         (APPLAUSE)  9/26/16\n",
       "2     3   Clinton                               How are you, Donald?  9/26/16\n",
       "3     4  Audience                                         (APPLAUSE)  9/26/16\n",
       "4     5      Holt                                  Good luck to you.  9/26/16"
      ]
     },
     "execution_count": 75,
     "metadata": {},
     "output_type": "execute_result"
    }
   ],
   "source": [
    "df = pd.read_csv('debate.csv')\n",
    "df.head(n=10)"
   ]
  },
  {
   "cell_type": "code",
   "execution_count": 268,
   "metadata": {
    "collapsed": false
   },
   "outputs": [
    {
     "data": {
      "text/html": [
       "<div>\n",
       "<table border=\"1\" class=\"dataframe\">\n",
       "  <thead>\n",
       "    <tr style=\"text-align: right;\">\n",
       "      <th></th>\n",
       "      <th>Line</th>\n",
       "      <th>Speaker</th>\n",
       "      <th>Text</th>\n",
       "      <th>Date</th>\n",
       "    </tr>\n",
       "  </thead>\n",
       "  <tbody>\n",
       "    <tr>\n",
       "      <th>0</th>\n",
       "      <td>1</td>\n",
       "      <td>Holt</td>\n",
       "      <td>Good evening from Hofstra University in Hempst...</td>\n",
       "      <td>9/26/16</td>\n",
       "    </tr>\n",
       "    <tr>\n",
       "      <th>1</th>\n",
       "      <td>2</td>\n",
       "      <td>Audience</td>\n",
       "      <td>(APPLAUSE)</td>\n",
       "      <td>9/26/16</td>\n",
       "    </tr>\n",
       "    <tr>\n",
       "      <th>2</th>\n",
       "      <td>3</td>\n",
       "      <td>Clinton</td>\n",
       "      <td>How are you, Donald?</td>\n",
       "      <td>9/26/16</td>\n",
       "    </tr>\n",
       "    <tr>\n",
       "      <th>3</th>\n",
       "      <td>4</td>\n",
       "      <td>Audience</td>\n",
       "      <td>(APPLAUSE)</td>\n",
       "      <td>9/26/16</td>\n",
       "    </tr>\n",
       "    <tr>\n",
       "      <th>4</th>\n",
       "      <td>5</td>\n",
       "      <td>Holt</td>\n",
       "      <td>Good luck to you.</td>\n",
       "      <td>9/26/16</td>\n",
       "    </tr>\n",
       "  </tbody>\n",
       "</table>\n",
       "</div>"
      ],
      "text/plain": [
       "   Line   Speaker                                               Text     Date\n",
       "0     1      Holt  Good evening from Hofstra University in Hempst...  9/26/16\n",
       "1     2  Audience                                         (APPLAUSE)  9/26/16\n",
       "2     3   Clinton                               How are you, Donald?  9/26/16\n",
       "3     4  Audience                                         (APPLAUSE)  9/26/16\n",
       "4     5      Holt                                  Good luck to you.  9/26/16"
      ]
     },
     "execution_count": 268,
     "metadata": {},
     "output_type": "execute_result"
    }
   ],
   "source": [
    "from sklearn.cross_validation import train_test_split as sk_split\n",
    "train = df[:1000]\n",
    "test = df[1000:]\n",
    "train.head(n=5)"
   ]
  },
  {
   "cell_type": "code",
   "execution_count": 32,
   "metadata": {
    "collapsed": false
   },
   "outputs": [],
   "source": [
    "# get data\n",
    "import random\n",
    "\n",
    "data = []\n",
    "labels = []\n",
    "with open(\"data/astro_sentences.txt\") as f:\n",
    "    for line in f:\n",
    "        s_len = len(line)\n",
    "        block = 500\n",
    "        cur = 0\n",
    "        while (cur < s_len - 3):\n",
    "            if (cur + block < s_len - 3):\n",
    "                # only do 500 for now\n",
    "                data.append(line[cur:cur+block].lower())\n",
    "                labels.append(int(line[-2]))\n",
    "                cur += block\n",
    "            else:\n",
    "                data.append(line[cur:-3].lower())\n",
    "                labels.append(int(line[-2]))\n",
    "                cur = s_len - 3\n",
    " \n",
    "# Now, let's clean punctuations \n",
    "for i, sentence in enumerate(data):\n",
    "    for char in \".,&%?'\":\n",
    "        data[i] = data[i].replace(char, ' ')\n",
    "        \n",
    "n = len(data)\n",
    "x_train = []\n",
    "y_train = []\n",
    "x_test = []\n",
    "y_test = []\n",
    "for i in range(n):\n",
    "    if random.randint(1, 8) <= 6:\n",
    "        x_train.append(data[i])\n",
    "        y_train.append(labels[i])\n",
    "    else:\n",
    "        x_test.append(data[i])\n",
    "        y_test.append(labels[i])\n",
    "x_text = x_train\n",
    "y_cand = y_train\n"
   ]
  },
  {
   "cell_type": "code",
   "execution_count": 33,
   "metadata": {
    "collapsed": false
   },
   "outputs": [
    {
     "name": "stdout",
     "output_type": "stream",
     "text": [
      "4008\n"
     ]
    }
   ],
   "source": [
    "# build dictionary of all the words\n",
    "word_to_index = {}\n",
    "n = len(x_text)\n",
    "print n\n",
    "num = 0\n",
    "for i in range(n):\n",
    "    words = x_text[i].split()\n",
    "    for word in words:\n",
    "        if not word_to_index.has_key(word):\n",
    "            word_to_index[word] = num\n",
    "            num += 1"
   ]
  },
  {
   "cell_type": "code",
   "execution_count": 34,
   "metadata": {
    "collapsed": false
   },
   "outputs": [],
   "source": [
    "# count the words\n",
    "total = [0] * 2\n",
    "for i in range(n):\n",
    "    total[y_cand[i]] += 1\n",
    "    \n",
    "counts = []\n",
    "for label in range(2):\n",
    "    counts.append([0] * num)\n",
    "    for i in range(n):\n",
    "        if y_cand[i] == label:\n",
    "            words = x_text[i].split()\n",
    "            for word in words:\n",
    "                counts[label][word_to_index[word]] += 1"
   ]
  },
  {
   "cell_type": "code",
   "execution_count": 35,
   "metadata": {
    "collapsed": false
   },
   "outputs": [
    {
     "name": "stdout",
     "output_type": "stream",
     "text": [
      "key= here  counts= 6 298\n",
      "key= want  counts= 41 493\n",
      "key= how  counts= 17 231\n",
      "key= wrong  counts= 13 40\n",
      "key= re  counts= 143 471\n",
      "key= saying  counts= 20 55\n",
      "key= than  counts= 31 170\n",
      "key= best  counts= 3 77\n",
      "key= debt  counts= 7 54\n",
      "key= country  counts= 88 314\n",
      "key= much  counts= 36 105\n",
      "key= life  counts= 3 86\n",
      "key= worked  counts= 0 75\n",
      "key= things  counts= 33 71\n",
      "key= had  counts= 27 190\n",
      "key= has  counts= 49 354\n",
      "key= right  counts= 29 219\n",
      "key= people  counts= 94 630\n",
      "key= for  counts= 99 1177\n",
      "key= support  counts= 2 74\n",
      "key= time  counts= 25 155\n",
      "key= love  counts= 4 59\n",
      "key= working  counts= 3 116\n",
      "key= so  counts= 113 680\n",
      "key= years  counts= 44 137\n",
      "key= didn  counts= 27 68\n",
      "key= million  counts= 17 65\n",
      "key= one  counts= 48 284\n",
      "key= vote  counts= 5 214\n",
      "key= future  counts= 0 104\n",
      "key= say  counts= 65 166\n",
      "key= take  counts= 35 113\n",
      "key= going  counts= 133 557\n",
      "key= where  counts= 46 131\n",
      "key= jobs  counts= 27 147\n",
      "key= many  counts= 45 136\n",
      "key= s  counts= 307 1247\n",
      "key= being  counts= 10 70\n",
      "key= around  counts= 5 53\n",
      "key= world  counts= 20 118\n",
      "key= her  counts= 58 199\n",
      "key= with  counts= 94 559\n",
      "key= am  counts= 10 130\n",
      "key= an  counts= 28 195\n",
      "key= as  counts= 55 443\n",
      "key= at  counts= 97 357\n",
      "key= to  counts= 452 4178\n",
      "key= small  counts= 7 74\n",
      "key= more  counts= 30 315\n",
      "key= states  counts= 26 72\n",
      "key= really  counts= 35 231\n",
      "key= also  counts= 12 136\n",
      "key= plan  counts= 11 58\n",
      "key= see  counts= 33 145\n",
      "key= last  counts= 15 94\n",
      "key= let  counts= 23 195\n",
      "key= person  counts= 5 52\n",
      "key= d  counts= 12 57\n",
      "key= be  counts= 101 690\n",
      "key= by  counts= 59 239\n",
      "key= clinton  counts= 36 17\n",
      "key= into  counts= 27 90\n",
      "key= up  counts= 35 332\n",
      "key= us  counts= 22 282\n",
      "key= young  counts= 0 120\n",
      "key= great  counts= 43 134\n",
      "key= next  counts= 2 70\n",
      "key= this  counts= 103 684\n",
      "key= high  counts= 2 60\n",
      "key= doing  counts= 40 73\n",
      "key= could  counts= 24 119\n",
      "key= bring  counts= 15 46\n",
      "key= should  counts= 40 205\n",
      "key= hope  counts= 0 76\n",
      "key= taxes  counts= 23 61\n",
      "key= nuclear  counts= 16 40\n",
      "key= ve  counts= 73 400\n",
      "key= off  counts= 14 49\n",
      "key= does  counts= 6 71\n",
      "key= chance  counts= 2 72\n",
      "key= work  counts= 9 292\n",
      "key= after  counts= 16 99\n",
      "key= law  counts= 10 43\n",
      "key= then  counts= 11 146\n",
      "key= them  counts= 59 213\n",
      "key= they  counts= 229 467\n",
      "key= what  counts= 102 703\n",
      "key= voting  counts= 0 60\n",
      "key= do  counts= 86 536\n",
      "key= secretary  counts= 22 36\n",
      "key= we  counts= 350 2110\n",
      "key= climate  counts= 0 51\n",
      "key= families  counts= 0 145\n",
      "key= the  counts= 597 3489\n",
      "key= fight  counts= 9 46\n",
      "key= way  counts= 47 128\n",
      "key= was  counts= 111 527\n",
      "key= together  counts= 1 216\n",
      "key= change  counts= 6 81\n",
      "key= can  counts= 49 543\n",
      "key= economy  counts= 3 108\n",
      "key= still  counts= 1 72\n",
      "key= not  counts= 75 578\n",
      "key= now  counts= 57 347\n",
      "key= year  counts= 8 69\n",
      "key= care  counts= 14 100\n",
      "key= that  counts= 333 2067\n",
      "key= america  counts= 6 290\n",
      "key= only  counts= 13 83\n",
      "key= these  counts= 40 91\n",
      "key= real  counts= 2 49\n",
      "key= early  counts= 0 54\n",
      "key= t  counts= 191 586\n",
      "key= business  counts= 12 92\n",
      "key= your  counts= 36 383\n",
      "key= start  counts= 8 58\n",
      "key= lot  counts= 29 170\n",
      "key= you  counts= 411 1790\n",
      "key= ahead  counts= 3 50\n",
      "key= family  counts= 2 101\n",
      "key= a  counts= 322 1885\n",
      "key= help  counts= 14 171\n",
      "key= actually  counts= 13 83\n",
      "key= put  counts= 11 96\n",
      "key= american  counts= 6 156\n",
      "key= else  counts= 7 73\n",
      "key= lives  counts= 1 61\n",
      "key= some  counts= 23 157\n",
      "key= everybody  counts= 13 124\n",
      "key= doesn  counts= 21 74\n",
      "key= go  counts= 35 243\n",
      "key= started  counts= 12 49\n",
      "key= need  counts= 19 210\n",
      "key= able  counts= 11 61\n",
      "key= i  counts= 536 2654\n",
      "key= well  counts= 48 232\n",
      "key= home  counts= 1 59\n",
      "key= he  counts= 42 1020\n",
      "key= education  counts= 2 69\n",
      "key= friends  counts= 7 72\n",
      "key= across  counts= 2 55\n",
      "key= even  counts= 21 116\n",
      "key= new  counts= 18 147\n",
      "key= ever  counts= 23 88\n",
      "key= never  counts= 23 119\n",
      "key= campaign  counts= 17 148\n",
      "key= tell  counts= 41 131\n",
      "key= rights  counts= 2 58\n",
      "key= give  counts= 14 67\n",
      "key= president  counts= 27 255\n",
      "key= before  counts= 14 45\n",
      "key= better  counts= 14 72\n",
      "key= went  counts= 7 60\n",
      "key= mean  counts= 18 35\n",
      "key= seen  counts= 17 50\n",
      "key= don  counts= 65 182\n",
      "key= m  counts= 56 225\n",
      "key= bad  counts= 45 15\n",
      "key= said  counts= 61 273\n",
      "key= against  counts= 16 96\n",
      "key= is  counts= 170 1080\n",
      "key= it  counts= 386 1243\n",
      "key= in  counts= 217 1645\n",
      "key= if  counts= 61 372\n",
      "key= make  counts= 20 367\n",
      "key= just  counts= 65 336\n",
      "key= down  counts= 14 122\n",
      "key= did  counts= 46 99\n",
      "key= making  counts= 6 68\n",
      "key= may  counts= 1 55\n",
      "key= maybe  counts= 12 60\n",
      "key= talk  counts= 18 87\n",
      "key= thank  counts= 4 106\n",
      "key= think  counts= 70 313\n",
      "key= first  counts= 19 151\n",
      "key= americans  counts= 5 135\n",
      "key= long  counts= 7 45\n",
      "key= little  counts= 6 51\n",
      "key= were  counts= 36 135\n",
      "key= paid  counts= 2 63\n",
      "key= get  counts= 51 369\n",
      "key= enough  counts= 2 51\n",
      "key= those  counts= 17 135\n",
      "key= middle  counts= 12 49\n",
      "key= different  counts= 8 52\n",
      "key= pay  counts= 14 126\n",
      "key= same  counts= 9 52\n",
      "key= again  counts= 11 73\n",
      "key= important  counts= 11 104\n",
      "key= children  counts= 2 117\n",
      "key= two  counts= 12 57\n",
      "key= through  counts= 3 53\n",
      "key= everyone  counts= 2 120\n",
      "key= energy  counts= 10 50\n",
      "key= hard  counts= 6 111\n",
      "key= running  counts= 4 54\n",
      "key= done  counts= 25 86\n",
      "key= part  counts= 1 70\n",
      "key= believe  counts= 28 212\n",
      "key= build  counts= 7 47\n",
      "key= most  counts= 4 85\n",
      "key= businesses  counts= 4 49\n",
      "key= big  counts= 23 81\n",
      "key= back  counts= 30 170\n",
      "key= opponent  counts= 1 68\n",
      "key= single  counts= 8 46\n",
      "key= ll  counts= 34 123\n",
      "key= day  counts= 9 98\n",
      "key= kids  counts= 1 108\n",
      "key= have  counts= 274 963\n",
      "key= national  counts= 2 53\n",
      "key= like  counts= 44 171\n",
      "key= about  counts= 71 592\n",
      "key= but  counts= 156 543\n",
      "key= –  counts= 0 292\n",
      "key= every  counts= 8 238\n",
      "key= school  counts= 0 90\n",
      "key= would  counts= 37 210\n",
      "key= me  counts= 66 265\n",
      "key= my  counts= 39 437\n",
      "key= keep  counts= 7 79\n",
      "key= over  counts= 36 82\n",
      "key= each  counts= 1 79\n",
      "key= got  counts= 25 277\n",
      "key= days  counts= 2 89\n",
      "key= top  counts= 1 55\n",
      "key= too  counts= 6 78\n",
      "key= talking  counts= 13 46\n",
      "key= been  counts= 76 221\n",
      "key= mother  counts= 1 54\n",
      "key= election  counts= 4 192\n",
      "key= everything  counts= 14 93\n",
      "key= donald  counts= 3 275\n",
      "key= no  counts= 46 173\n",
      "key= when  counts= 73 328\n",
      "key= says  counts= 3 59\n",
      "key= proud  counts= 12 41\n",
      "key= today  counts= 9 70\n",
      "key= trump  counts= 6 216\n",
      "key= place  counts= 6 46\n",
      "key= coming  counts= 12 45\n",
      "key= millions  counts= 14 46\n",
      "key= and  counts= 536 4007\n",
      "key= any  counts= 13 94\n",
      "key= sure  counts= 5 145\n",
      "key= state  counts= 8 77\n",
      "key= college  counts= 1 82\n",
      "key= come  counts= 15 94\n",
      "key= senator  counts= 9 47\n",
      "key= good  counts= 25 174\n",
      "key= respect  counts= 12 46\n",
      "key= on  counts= 78 567\n",
      "key= of  counts= 339 2021\n",
      "key= stand  counts= 0 65\n",
      "key= or  counts= 42 292\n",
      "key= there  counts= 44 279\n",
      "key= all  counts= 103 437\n",
      "key= woman  counts= 2 50\n",
      "key= communities  counts= 4 55\n",
      "key= health  counts= 6 77\n",
      "key= \"  counts= 4 79\n",
      "key= kind  counts= 7 136\n",
      "key= his  counts= 7 304\n",
      "key= him  counts= 12 146\n",
      "key= are  counts= 109 712\n",
      "key= anybody  counts= 10 44\n",
      "key= workers  counts= 2 57\n",
      "key= called  counts= 7 60\n",
      "key= issues  counts= 0 51\n",
      "key= from  counts= 43 276\n",
      "key= women  counts= 16 171\n",
      "key= heard  counts= 9 63\n",
      "key= tax  counts= 15 74\n",
      "key= something  counts= 18 95\n",
      "key= united  counts= 19 55\n",
      "key= our  counts= 108 863\n",
      "key= out  counts= 57 310\n",
      "key= their  counts= 32 227\n",
      "key= which  counts= 29 67\n",
      "key= who  counts= 28 610\n",
      "key= why  counts= 29 104\n",
      "key= job  counts= 11 50\n",
      "key= will  counts= 76 401\n",
      "key= other  counts= 39 179\n",
      "key= know  counts= 74 449\n",
      "key= because  counts= 104 443\n",
      "key= getting  counts= 14 50\n",
      "key= own  counts= 5 66\n",
      "key= made  counts= 23 80\n",
      "key= whether  counts= 10 41\n"
     ]
    }
   ],
   "source": [
    "for key in word_to_index:\n",
    "    c0 = counts[0][word_to_index[key]]\n",
    "    c1 = counts[1][word_to_index[key]]\n",
    "    if abs(c0 - c1) < (c0 + c1) / 4:\n",
    "        continue\n",
    "    if counts[0][word_to_index[key]] + counts[1][word_to_index[key]] > 50:\n",
    "        print \"key=\", key, \" counts=\", counts[0][word_to_index[key]], counts[1][word_to_index[key]]"
   ]
  },
  {
   "cell_type": "code",
   "execution_count": 36,
   "metadata": {
    "collapsed": false
   },
   "outputs": [],
   "source": [
    "# calculate probability p[label][word] = log(p(word | label))\n",
    "\n",
    "import sys\n",
    "import math\n",
    "def mylog(x):\n",
    "    if x == 0:\n",
    "        return sys.float_info.min\n",
    "    else:\n",
    "        return math.log(x)\n",
    "\n",
    "def getProb(cnt):\n",
    "    tot = sum(cnt)\n",
    "    return [float(x) / tot for x in cnt]\n",
    "def calculateTable(alpha = 1):\n",
    "    global p\n",
    "    p = []\n",
    "    for label in range(2):\n",
    "        p.append([0] * num)\n",
    "        arr = getProb([x + alpha for x in counts[label]])\n",
    "        p[label] = [mylog(x) for x in arr]\n",
    "calculateTable()"
   ]
  },
  {
   "cell_type": "code",
   "execution_count": 37,
   "metadata": {
    "collapsed": false
   },
   "outputs": [],
   "source": [
    "def predictLabel(text):\n",
    "    words = text.split()\n",
    "    ans = [0] * 2\n",
    "    for label in range(2):\n",
    "        ans[label] = mylog(float(total[label]) / sum(total))\n",
    "        for word in words:\n",
    "            if not word_to_index.has_key(word):\n",
    "                continue  # ignore for now\n",
    "            else:\n",
    "                ans[label] += p[label][word_to_index[word]]\n",
    "    if ans[0] > ans[1]:\n",
    "        return 0\n",
    "    else:\n",
    "        return 1"
   ]
  },
  {
   "cell_type": "code",
   "execution_count": 38,
   "metadata": {
    "collapsed": true
   },
   "outputs": [],
   "source": [
    "def testData(test_data):\n",
    "    num_total = len(test_data)\n",
    "    num_correct = 0\n",
    "    for test_entry in test_data:\n",
    "        num_correct += (predictLabel(test_entry[1]) == test_entry[0])\n",
    "    return \"%d out of %d: correct %.2lf\" % (num_correct, num_total, float(num_correct) / num_total)\n"
   ]
  },
  {
   "cell_type": "code",
   "execution_count": 39,
   "metadata": {
    "collapsed": false
   },
   "outputs": [
    {
     "ename": "NameError",
     "evalue": "name 'test' is not defined",
     "output_type": "error",
     "traceback": [
      "\u001b[0;31m---------------------------------------------------------------------------\u001b[0m",
      "\u001b[0;31mNameError\u001b[0m                                 Traceback (most recent call last)",
      "\u001b[0;32m<ipython-input-39-d19a104a1a3e>\u001b[0m in \u001b[0;36m<module>\u001b[0;34m()\u001b[0m\n\u001b[1;32m      7\u001b[0m             \u001b[0mreturn_data\u001b[0m\u001b[0;34m.\u001b[0m\u001b[0mappend\u001b[0m\u001b[0;34m(\u001b[0m\u001b[0;34m(\u001b[0m\u001b[0;36m1\u001b[0m\u001b[0;34m,\u001b[0m \u001b[0mtest\u001b[0m\u001b[0;34m[\u001b[0m\u001b[0;34m'Text'\u001b[0m\u001b[0;34m]\u001b[0m\u001b[0;34m.\u001b[0m\u001b[0mvalues\u001b[0m\u001b[0;34m[\u001b[0m\u001b[0mi\u001b[0m\u001b[0;34m]\u001b[0m\u001b[0;34m)\u001b[0m\u001b[0;34m)\u001b[0m\u001b[0;34m\u001b[0m\u001b[0m\n\u001b[1;32m      8\u001b[0m     \u001b[0;32mreturn\u001b[0m \u001b[0mreturn_data\u001b[0m\u001b[0;34m\u001b[0m\u001b[0m\n\u001b[0;32m----> 9\u001b[0;31m \u001b[0mtest_data\u001b[0m \u001b[0;34m=\u001b[0m \u001b[0mgetTestDataFromDataFrame\u001b[0m\u001b[0;34m(\u001b[0m\u001b[0mtest\u001b[0m\u001b[0;34m)\u001b[0m\u001b[0;34m\u001b[0m\u001b[0m\n\u001b[0m",
      "\u001b[0;31mNameError\u001b[0m: name 'test' is not defined"
     ]
    }
   ],
   "source": [
    "def getTestDataFromDataFrame(test):\n",
    "    return_data = []\n",
    "    for i in range(len(test['Speaker'].values)):\n",
    "        if test['Speaker'].values[i] == 'Trump':\n",
    "            return_data.append((0, test['Text'].values[i]))\n",
    "        elif test['Speaker'].values[i] == 'Clinton':\n",
    "            return_data.append((1, test['Text'].values[i]))\n",
    "    return return_data\n",
    "test_data = getTestDataFromDataFrame(test)"
   ]
  },
  {
   "cell_type": "code",
   "execution_count": 40,
   "metadata": {
    "collapsed": false
   },
   "outputs": [
    {
     "ename": "NameError",
     "evalue": "name 'test_data' is not defined",
     "output_type": "error",
     "traceback": [
      "\u001b[0;31m---------------------------------------------------------------------------\u001b[0m",
      "\u001b[0;31mNameError\u001b[0m                                 Traceback (most recent call last)",
      "\u001b[0;32m<ipython-input-40-b22d72a35ffd>\u001b[0m in \u001b[0;36m<module>\u001b[0;34m()\u001b[0m\n\u001b[0;32m----> 1\u001b[0;31m \u001b[0;32mprint\u001b[0m \u001b[0mtest_data\u001b[0m\u001b[0;34m[\u001b[0m\u001b[0;36m0\u001b[0m\u001b[0;34m]\u001b[0m\u001b[0;34m\u001b[0m\u001b[0m\n\u001b[0m",
      "\u001b[0;31mNameError\u001b[0m: name 'test_data' is not defined"
     ]
    }
   ],
   "source": [
    "print test_data[0]\n"
   ]
  },
  {
   "cell_type": "code",
   "execution_count": 41,
   "metadata": {
    "collapsed": false
   },
   "outputs": [
    {
     "ename": "NameError",
     "evalue": "name 'test_data' is not defined",
     "output_type": "error",
     "traceback": [
      "\u001b[0;31m---------------------------------------------------------------------------\u001b[0m",
      "\u001b[0;31mNameError\u001b[0m                                 Traceback (most recent call last)",
      "\u001b[0;32m<ipython-input-41-f1d8769ba9cd>\u001b[0m in \u001b[0;36m<module>\u001b[0;34m()\u001b[0m\n\u001b[0;32m----> 1\u001b[0;31m \u001b[0mtestData\u001b[0m\u001b[0;34m(\u001b[0m\u001b[0mtest_data\u001b[0m\u001b[0;34m)\u001b[0m\u001b[0;34m\u001b[0m\u001b[0m\n\u001b[0m",
      "\u001b[0;31mNameError\u001b[0m: name 'test_data' is not defined"
     ]
    }
   ],
   "source": [
    "testData(test_data)\n"
   ]
  },
  {
   "cell_type": "code",
   "execution_count": 45,
   "metadata": {
    "collapsed": false
   },
   "outputs": [
    {
     "data": {
      "text/plain": [
       "'1141 out of 1354: correct 0.84'"
      ]
     },
     "execution_count": 45,
     "metadata": {},
     "output_type": "execute_result"
    }
   ],
   "source": [
    "testData(zip(y_test, x_test))\n",
    "#testData([(0,str1)])\n"
   ]
  },
  {
   "cell_type": "code",
   "execution_count": null,
   "metadata": {
    "collapsed": true
   },
   "outputs": [],
   "source": []
  },
  {
   "cell_type": "code",
   "execution_count": null,
   "metadata": {
    "collapsed": true
   },
   "outputs": [],
   "source": []
  },
  {
   "cell_type": "code",
   "execution_count": null,
   "metadata": {
    "collapsed": true
   },
   "outputs": [],
   "source": []
  },
  {
   "cell_type": "code",
   "execution_count": null,
   "metadata": {
    "collapsed": true
   },
   "outputs": [],
   "source": []
  }
 ],
 "metadata": {
  "anaconda-cloud": {},
  "kernelspec": {
   "display_name": "Python [Root]",
   "language": "python",
   "name": "Python [Root]"
  },
  "language_info": {
   "codemirror_mode": {
    "name": "ipython",
    "version": 2
   },
   "file_extension": ".py",
   "mimetype": "text/x-python",
   "name": "python",
   "nbconvert_exporter": "python",
   "pygments_lexer": "ipython2",
   "version": "2.7.12"
  }
 },
 "nbformat": 4,
 "nbformat_minor": 0
}
