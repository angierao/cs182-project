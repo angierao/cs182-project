{
 "cells": [
  {
   "cell_type": "code",
   "execution_count": 1,
   "metadata": {
    "collapsed": true
   },
   "outputs": [],
   "source": [
    "import numpy as np\n",
    "import pandas as pd\n",
    "import scipy as sp\n",
    "from sklearn import linear_model\n",
    "import matplotlib.pyplot as plt\n",
    "from sklearn import discriminant_analysis\n",
    "from sklearn.decomposition import PCA\n",
    "from sklearn import preprocessing\n",
    "from sklearn import ensemble\n",
    "from sklearn.cross_validation import KFold\n",
    "from sklearn.tree import DecisionTreeClassifier, export_graphviz\n",
    "from sklearn.feature_extraction.text import CountVectorizer\n",
    "from sklearn.linear_model import LogisticRegression as LogReg\n",
    "from sklearn.grid_search import GridSearchCV\n",
    "from sklearn.metrics import accuracy_score\n",
    "import StringIO\n",
    "import matplotlib\n",
    "import matplotlib.pyplot as plt\n",
    "import subprocess\n",
    "import os\n",
    "%matplotlib inline"
   ]
  },
  {
   "cell_type": "code",
   "execution_count": 75,
   "metadata": {
    "collapsed": false
   },
   "outputs": [
    {
     "data": {
      "text/html": [
       "<div>\n",
       "<table border=\"1\" class=\"dataframe\">\n",
       "  <thead>\n",
       "    <tr style=\"text-align: right;\">\n",
       "      <th></th>\n",
       "      <th>Line</th>\n",
       "      <th>Speaker</th>\n",
       "      <th>Text</th>\n",
       "      <th>Date</th>\n",
       "    </tr>\n",
       "  </thead>\n",
       "  <tbody>\n",
       "    <tr>\n",
       "      <th>0</th>\n",
       "      <td>1</td>\n",
       "      <td>Holt</td>\n",
       "      <td>Good evening from Hofstra University in Hempst...</td>\n",
       "      <td>9/26/16</td>\n",
       "    </tr>\n",
       "    <tr>\n",
       "      <th>1</th>\n",
       "      <td>2</td>\n",
       "      <td>Audience</td>\n",
       "      <td>(APPLAUSE)</td>\n",
       "      <td>9/26/16</td>\n",
       "    </tr>\n",
       "    <tr>\n",
       "      <th>2</th>\n",
       "      <td>3</td>\n",
       "      <td>Clinton</td>\n",
       "      <td>How are you, Donald?</td>\n",
       "      <td>9/26/16</td>\n",
       "    </tr>\n",
       "    <tr>\n",
       "      <th>3</th>\n",
       "      <td>4</td>\n",
       "      <td>Audience</td>\n",
       "      <td>(APPLAUSE)</td>\n",
       "      <td>9/26/16</td>\n",
       "    </tr>\n",
       "    <tr>\n",
       "      <th>4</th>\n",
       "      <td>5</td>\n",
       "      <td>Holt</td>\n",
       "      <td>Good luck to you.</td>\n",
       "      <td>9/26/16</td>\n",
       "    </tr>\n",
       "  </tbody>\n",
       "</table>\n",
       "</div>"
      ],
      "text/plain": [
       "   Line   Speaker                                               Text     Date\n",
       "0     1      Holt  Good evening from Hofstra University in Hempst...  9/26/16\n",
       "1     2  Audience                                         (APPLAUSE)  9/26/16\n",
       "2     3   Clinton                               How are you, Donald?  9/26/16\n",
       "3     4  Audience                                         (APPLAUSE)  9/26/16\n",
       "4     5      Holt                                  Good luck to you.  9/26/16"
      ]
     },
     "execution_count": 75,
     "metadata": {},
     "output_type": "execute_result"
    }
   ],
   "source": [
    "df = pd.read_csv('debate.csv')\n",
    "df.head(n=10)"
   ]
  },
  {
   "cell_type": "code",
   "execution_count": 268,
   "metadata": {
    "collapsed": false
   },
   "outputs": [
    {
     "data": {
      "text/html": [
       "<div>\n",
       "<table border=\"1\" class=\"dataframe\">\n",
       "  <thead>\n",
       "    <tr style=\"text-align: right;\">\n",
       "      <th></th>\n",
       "      <th>Line</th>\n",
       "      <th>Speaker</th>\n",
       "      <th>Text</th>\n",
       "      <th>Date</th>\n",
       "    </tr>\n",
       "  </thead>\n",
       "  <tbody>\n",
       "    <tr>\n",
       "      <th>0</th>\n",
       "      <td>1</td>\n",
       "      <td>Holt</td>\n",
       "      <td>Good evening from Hofstra University in Hempst...</td>\n",
       "      <td>9/26/16</td>\n",
       "    </tr>\n",
       "    <tr>\n",
       "      <th>1</th>\n",
       "      <td>2</td>\n",
       "      <td>Audience</td>\n",
       "      <td>(APPLAUSE)</td>\n",
       "      <td>9/26/16</td>\n",
       "    </tr>\n",
       "    <tr>\n",
       "      <th>2</th>\n",
       "      <td>3</td>\n",
       "      <td>Clinton</td>\n",
       "      <td>How are you, Donald?</td>\n",
       "      <td>9/26/16</td>\n",
       "    </tr>\n",
       "    <tr>\n",
       "      <th>3</th>\n",
       "      <td>4</td>\n",
       "      <td>Audience</td>\n",
       "      <td>(APPLAUSE)</td>\n",
       "      <td>9/26/16</td>\n",
       "    </tr>\n",
       "    <tr>\n",
       "      <th>4</th>\n",
       "      <td>5</td>\n",
       "      <td>Holt</td>\n",
       "      <td>Good luck to you.</td>\n",
       "      <td>9/26/16</td>\n",
       "    </tr>\n",
       "  </tbody>\n",
       "</table>\n",
       "</div>"
      ],
      "text/plain": [
       "   Line   Speaker                                               Text     Date\n",
       "0     1      Holt  Good evening from Hofstra University in Hempst...  9/26/16\n",
       "1     2  Audience                                         (APPLAUSE)  9/26/16\n",
       "2     3   Clinton                               How are you, Donald?  9/26/16\n",
       "3     4  Audience                                         (APPLAUSE)  9/26/16\n",
       "4     5      Holt                                  Good luck to you.  9/26/16"
      ]
     },
     "execution_count": 268,
     "metadata": {},
     "output_type": "execute_result"
    }
   ],
   "source": [
    "from sklearn.cross_validation import train_test_split as sk_split\n",
    "train = df[:1000]\n",
    "test = df[1000:]\n",
    "train.head(n=5)"
   ]
  },
  {
   "cell_type": "code",
   "execution_count": 269,
   "metadata": {
    "collapsed": true
   },
   "outputs": [],
   "source": [
    "x_text = []\n",
    "y_cand = []\n",
    "for i in range(len(train['Speaker'].values)):\n",
    "    if train['Speaker'].values[i] == 'Trump':\n",
    "        x_text.append(train['Text'].values[i])\n",
    "        y_cand.append(0)\n",
    "    elif train['Speaker'].values[i] == 'Clinton':\n",
    "        x_text.append(train['Text'].values[i])\n",
    "        y_cand.append(1)    "
   ]
  },
  {
   "cell_type": "code",
   "execution_count": 270,
   "metadata": {
    "collapsed": false
   },
   "outputs": [
    {
     "name": "stdout",
     "output_type": "stream",
     "text": [
      "375\n"
     ]
    }
   ],
   "source": [
    "# build dictionary of all the words\n",
    "word_to_index = {}\n",
    "n = len(x_text)\n",
    "print n\n",
    "num = 0\n",
    "for i in range(n):\n",
    "    words = x_text[i].split()\n",
    "    for word in words:\n",
    "        if not word_to_index.has_key(word):\n",
    "            word_to_index[word] = num\n",
    "            num += 1"
   ]
  },
  {
   "cell_type": "code",
   "execution_count": 271,
   "metadata": {
    "collapsed": false
   },
   "outputs": [],
   "source": [
    "# count the words\n",
    "total = [0] * 2\n",
    "for i in range(n):\n",
    "    total[y_cand[i]] += 1\n",
    "    \n",
    "counts = []\n",
    "for label in range(2):\n",
    "    counts.append([0] * num)\n",
    "    for i in range(n):\n",
    "        if y_cand[i] == label:\n",
    "            words = x_text[i].split()\n",
    "            for word in words:\n",
    "                counts[label][word_to_index[word]] += 1"
   ]
  },
  {
   "cell_type": "code",
   "execution_count": 272,
   "metadata": {
    "collapsed": false
   },
   "outputs": [
    {
     "name": "stdout",
     "output_type": "stream",
     "text": [
      "key= would  counts= 36 59\n",
      "key= me  counts= 35 16\n",
      "key= them  counts= 37 20\n",
      "key= they  counts= 104 42\n",
      "key= country  counts= 42 19\n",
      "key= been  counts= 69 24\n",
      "key= It's  counts= 45 14\n",
      "key= can  counts= 19 51\n",
      "key= so  counts= 59 35\n",
      "key= say  counts= 40 11\n",
      "key= We  counts= 67 40\n",
      "key= going  counts= 98 43\n",
      "key= where  counts= 37 17\n",
      "key= many  counts= 37 15\n",
      "key= But  counts= 99 46\n",
      "key= or  counts= 36 15\n",
      "key= at  counts= 93 49\n",
      "key= you  counts= 263 88\n",
      "key= all  counts= 62 29\n",
      "key= very  counts= 94 37\n",
      "key= I'm  counts= 55 20\n",
      "key= --  counts= 173 51\n",
      "key= that's  counts= 33 20\n",
      "key= don't  counts= 53 17\n",
      "key= it.  counts= 60 8\n",
      "key= look  counts= 58 10\n",
      "key= we're  counts= 34 18\n",
      "key= have  counts= 236 141\n",
      "key= who  counts= 21 49\n",
      "key= she  counts= 98 4\n",
      "key= it's  counts= 76 31\n",
      "key= You  counts= 64 21\n",
      "key= know  counts= 40 18\n",
      "key= like  counts= 47 15\n",
      "key= he  counts= 15 95\n"
     ]
    }
   ],
   "source": [
    "for key in word_to_index:\n",
    "    c0 = counts[0][word_to_index[key]]\n",
    "    c1 = counts[1][word_to_index[key]]\n",
    "    if abs(c0 - c1) < (c0 + c1) / 4:\n",
    "        continue\n",
    "    if counts[0][word_to_index[key]] + counts[1][word_to_index[key]] > 50:\n",
    "        print \"key=\", key, \" counts=\", counts[0][word_to_index[key]], counts[1][word_to_index[key]]"
   ]
  },
  {
   "cell_type": "code",
   "execution_count": 273,
   "metadata": {
    "collapsed": false
   },
   "outputs": [],
   "source": [
    "# calculate probability p[label][word] = log(p(word | label))\n",
    "\n",
    "import sys\n",
    "import math\n",
    "def mylog(x):\n",
    "    if x == 0:\n",
    "        return sys.float_info.min\n",
    "    else:\n",
    "        return math.log(x)\n",
    "\n",
    "def getProb(cnt):\n",
    "    tot = sum(cnt)\n",
    "    return [float(x) / tot for x in cnt]\n",
    "def calculateTable(alpha = 1):\n",
    "    global p\n",
    "    p = []\n",
    "    for label in range(2):\n",
    "        p.append([0] * num)\n",
    "        arr = getProb([x + alpha for x in counts[label]])\n",
    "        p[label] = [mylog(x) for x in arr]\n",
    "calculateTable()"
   ]
  },
  {
   "cell_type": "code",
   "execution_count": 274,
   "metadata": {
    "collapsed": false
   },
   "outputs": [],
   "source": [
    "def predictLabel(text):\n",
    "    words = text.split()\n",
    "    ans = [0] * 2\n",
    "    for label in range(2):\n",
    "        ans[label] = mylog(float(total[label]) / sum(total))\n",
    "        for word in words:\n",
    "            if not word_to_index.has_key(word):\n",
    "                continue  # ignore for now\n",
    "            else:\n",
    "                ans[label] += p[label][word_to_index[word]]\n",
    "    if ans[0] > ans[1]:\n",
    "        return 0\n",
    "    else:\n",
    "        return 1"
   ]
  },
  {
   "cell_type": "code",
   "execution_count": 275,
   "metadata": {
    "collapsed": true
   },
   "outputs": [],
   "source": [
    "def testData(test_data):\n",
    "    num_total = len(test_data)\n",
    "    num_correct = 0\n",
    "    for test_entry in test_data:\n",
    "        num_correct += (predictLabel(test_entry[1]) == test_entry[0])\n",
    "    return \"%d out of %d: correct %.2lf\" % (num_correct, num_total, float(num_correct) / num_total)\n"
   ]
  },
  {
   "cell_type": "code",
   "execution_count": 276,
   "metadata": {
    "collapsed": false
   },
   "outputs": [],
   "source": [
    "def getTestDataFromDataFrame(test):\n",
    "    return_data = []\n",
    "    for i in range(len(test['Speaker'].values)):\n",
    "        if test['Speaker'].values[i] == 'Trump':\n",
    "            return_data.append((0, test['Text'].values[i]))\n",
    "        elif test['Speaker'].values[i] == 'Clinton':\n",
    "            return_data.append((1, test['Text'].values[i]))\n",
    "    return return_data\n",
    "test_data = getTestDataFromDataFrame(test)"
   ]
  },
  {
   "cell_type": "code",
   "execution_count": 277,
   "metadata": {
    "collapsed": false
   },
   "outputs": [
    {
     "name": "stdout",
     "output_type": "stream",
     "text": [
      "(1, 'We have to save as many lives as we possibly can.')\n"
     ]
    }
   ],
   "source": [
    "print test_data[0]\n"
   ]
  },
  {
   "cell_type": "code",
   "execution_count": 278,
   "metadata": {
    "collapsed": false
   },
   "outputs": [
    {
     "data": {
      "text/plain": [
       "'194 out of 223: correct 0.87'"
      ]
     },
     "execution_count": 278,
     "metadata": {},
     "output_type": "execute_result"
    }
   ],
   "source": [
    "testData(test_data)\n"
   ]
  },
  {
   "cell_type": "code",
   "execution_count": 279,
   "metadata": {
    "collapsed": false
   },
   "outputs": [
    {
     "data": {
      "text/plain": [
       "'0 out of 1: correct 0.00'"
      ]
     },
     "execution_count": 279,
     "metadata": {},
     "output_type": "execute_result"
    }
   ],
   "source": [
    "testData(zip(y_cand, x_text))\n",
    "testData([(0,str1)])\n"
   ]
  },
  {
   "cell_type": "code",
   "execution_count": null,
   "metadata": {
    "collapsed": true
   },
   "outputs": [],
   "source": []
  },
  {
   "cell_type": "code",
   "execution_count": null,
   "metadata": {
    "collapsed": true
   },
   "outputs": [],
   "source": []
  },
  {
   "cell_type": "code",
   "execution_count": null,
   "metadata": {
    "collapsed": true
   },
   "outputs": [],
   "source": []
  },
  {
   "cell_type": "code",
   "execution_count": null,
   "metadata": {
    "collapsed": true
   },
   "outputs": [],
   "source": []
  }
 ],
 "metadata": {
  "kernelspec": {
   "display_name": "Python [Root]",
   "language": "python",
   "name": "Python [Root]"
  },
  "language_info": {
   "codemirror_mode": {
    "name": "ipython",
    "version": 2
   },
   "file_extension": ".py",
   "mimetype": "text/x-python",
   "name": "python",
   "nbconvert_exporter": "python",
   "pygments_lexer": "ipython2",
   "version": "2.7.12"
  }
 },
 "nbformat": 4,
 "nbformat_minor": 0
}
